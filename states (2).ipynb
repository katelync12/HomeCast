{
  "metadata": {
    "kernelspec": {
      "name": "python",
      "display_name": "Python (Pyodide)",
      "language": "python"
    },
    "language_info": {
      "codemirror_mode": {
        "name": "python",
        "version": 3
      },
      "file_extension": ".py",
      "mimetype": "text/x-python",
      "name": "python",
      "nbconvert_exporter": "python",
      "pygments_lexer": "ipython3",
      "version": "3.8"
    }
  },
  "nbformat_minor": 5,
  "nbformat": 4,
  "cells": [
    {
      "id": "ef5725fd-70da-4a13-8b81-b1edb5fdf3bb",
      "cell_type": "code",
      "source": "import pandas as pd",
      "metadata": {
        "trusted": true
      },
      "outputs": [],
      "execution_count": 2
    },
    {
      "id": "6bc0f040-daca-46e5-92a4-286e28c7703c",
      "cell_type": "code",
      "source": "df = pd.read_csv(\"Table(5 states1997-2024).csv\")",
      "metadata": {
        "trusted": true
      },
      "outputs": [],
      "execution_count": 3
    },
    {
      "id": "07ca2791-a139-4d13-9788-3be4808e9af2",
      "cell_type": "code",
      "source": "df.head()",
      "metadata": {
        "trusted": true
      },
      "outputs": [
        {
          "execution_count": 4,
          "output_type": "execute_result",
          "data": {
            "text/plain": "      GeoName       1997       1998       1999       2000       2001  \\\n0     Arizona   132694.8   144393.2   156442.1   165735.6   172899.6   \n1  California  1068048.6  1143672.5  1239773.5  1354791.3  1373270.8   \n2    Illinois   416015.1   436533.4   459971.6   486089.7   499618.4   \n3    New York   716104.7   744958.9   794009.5   839853.0   876285.2   \n4       Texas   610659.8   648243.1   683347.4   742161.5   780206.2   \n\n        2002       2003       2004       2005  ...       2015       2016  \\\n0   180844.5   194318.0   207246.3   227997.8  ...   298942.2   313787.1   \n1  1419321.8  1498578.0  1585081.4  1698858.4  ...  2487156.4  2586485.2   \n2   511485.9   528577.0   560079.8   589153.7  ...   802592.0   813561.6   \n3   885386.2   908535.2   958565.3  1009851.0  ...  1498474.7  1556830.0   \n4   796357.3   840860.8   921230.7  1003745.9  ...  1585985.9  1582981.5   \n\n        2017       2018       2019       2020       2021       2022  \\\n0   333099.0   353671.0   375376.7   388956.7   436778.6   484052.2   \n1  2740550.3  2899530.9  3068629.7  3076755.1  3423958.3  3660415.7   \n2   832826.8   871024.2   895601.8   860672.8   946776.2  1040353.3   \n3  1624800.7  1710665.6  1787470.9  1773369.8  1923413.3  2052758.8   \n4  1667313.0  1808026.9  1864872.3  1802143.7  2088972.3  2436925.0   \n\n        2023       2024  \n0   522767.2   552167.0  \n1  3870378.9  4103123.6  \n2  1098346.1  1137243.6  \n3  2172009.6  2297028.0  \n4  2583866.2  2709392.9  \n\n[5 rows x 29 columns]",
            "text/html": "<div>\n<style scoped>\n    .dataframe tbody tr th:only-of-type {\n        vertical-align: middle;\n    }\n\n    .dataframe tbody tr th {\n        vertical-align: top;\n    }\n\n    .dataframe thead th {\n        text-align: right;\n    }\n</style>\n<table border=\"1\" class=\"dataframe\">\n  <thead>\n    <tr style=\"text-align: right;\">\n      <th></th>\n      <th>GeoName</th>\n      <th>1997</th>\n      <th>1998</th>\n      <th>1999</th>\n      <th>2000</th>\n      <th>2001</th>\n      <th>2002</th>\n      <th>2003</th>\n      <th>2004</th>\n      <th>2005</th>\n      <th>...</th>\n      <th>2015</th>\n      <th>2016</th>\n      <th>2017</th>\n      <th>2018</th>\n      <th>2019</th>\n      <th>2020</th>\n      <th>2021</th>\n      <th>2022</th>\n      <th>2023</th>\n      <th>2024</th>\n    </tr>\n  </thead>\n  <tbody>\n    <tr>\n      <th>0</th>\n      <td>Arizona</td>\n      <td>132694.8</td>\n      <td>144393.2</td>\n      <td>156442.1</td>\n      <td>165735.6</td>\n      <td>172899.6</td>\n      <td>180844.5</td>\n      <td>194318.0</td>\n      <td>207246.3</td>\n      <td>227997.8</td>\n      <td>...</td>\n      <td>298942.2</td>\n      <td>313787.1</td>\n      <td>333099.0</td>\n      <td>353671.0</td>\n      <td>375376.7</td>\n      <td>388956.7</td>\n      <td>436778.6</td>\n      <td>484052.2</td>\n      <td>522767.2</td>\n      <td>552167.0</td>\n    </tr>\n    <tr>\n      <th>1</th>\n      <td>California</td>\n      <td>1068048.6</td>\n      <td>1143672.5</td>\n      <td>1239773.5</td>\n      <td>1354791.3</td>\n      <td>1373270.8</td>\n      <td>1419321.8</td>\n      <td>1498578.0</td>\n      <td>1585081.4</td>\n      <td>1698858.4</td>\n      <td>...</td>\n      <td>2487156.4</td>\n      <td>2586485.2</td>\n      <td>2740550.3</td>\n      <td>2899530.9</td>\n      <td>3068629.7</td>\n      <td>3076755.1</td>\n      <td>3423958.3</td>\n      <td>3660415.7</td>\n      <td>3870378.9</td>\n      <td>4103123.6</td>\n    </tr>\n    <tr>\n      <th>2</th>\n      <td>Illinois</td>\n      <td>416015.1</td>\n      <td>436533.4</td>\n      <td>459971.6</td>\n      <td>486089.7</td>\n      <td>499618.4</td>\n      <td>511485.9</td>\n      <td>528577.0</td>\n      <td>560079.8</td>\n      <td>589153.7</td>\n      <td>...</td>\n      <td>802592.0</td>\n      <td>813561.6</td>\n      <td>832826.8</td>\n      <td>871024.2</td>\n      <td>895601.8</td>\n      <td>860672.8</td>\n      <td>946776.2</td>\n      <td>1040353.3</td>\n      <td>1098346.1</td>\n      <td>1137243.6</td>\n    </tr>\n    <tr>\n      <th>3</th>\n      <td>New York</td>\n      <td>716104.7</td>\n      <td>744958.9</td>\n      <td>794009.5</td>\n      <td>839853.0</td>\n      <td>876285.2</td>\n      <td>885386.2</td>\n      <td>908535.2</td>\n      <td>958565.3</td>\n      <td>1009851.0</td>\n      <td>...</td>\n      <td>1498474.7</td>\n      <td>1556830.0</td>\n      <td>1624800.7</td>\n      <td>1710665.6</td>\n      <td>1787470.9</td>\n      <td>1773369.8</td>\n      <td>1923413.3</td>\n      <td>2052758.8</td>\n      <td>2172009.6</td>\n      <td>2297028.0</td>\n    </tr>\n    <tr>\n      <th>4</th>\n      <td>Texas</td>\n      <td>610659.8</td>\n      <td>648243.1</td>\n      <td>683347.4</td>\n      <td>742161.5</td>\n      <td>780206.2</td>\n      <td>796357.3</td>\n      <td>840860.8</td>\n      <td>921230.7</td>\n      <td>1003745.9</td>\n      <td>...</td>\n      <td>1585985.9</td>\n      <td>1582981.5</td>\n      <td>1667313.0</td>\n      <td>1808026.9</td>\n      <td>1864872.3</td>\n      <td>1802143.7</td>\n      <td>2088972.3</td>\n      <td>2436925.0</td>\n      <td>2583866.2</td>\n      <td>2709392.9</td>\n    </tr>\n  </tbody>\n</table>\n<p>5 rows × 29 columns</p>\n</div>"
          },
          "metadata": {}
        }
      ],
      "execution_count": 4
    },
    {
      "id": "97cf14ea-6c89-42a6-ab4b-9fcbc9dbb028",
      "cell_type": "code",
      "source": "",
      "metadata": {
        "trusted": true
      },
      "outputs": [],
      "execution_count": null
    }
  ]
}