{
  "metadata": {
    "kernelspec": {
      "name": "python",
      "display_name": "Python (Pyodide)",
      "language": "python"
    },
    "language_info": {
      "codemirror_mode": {
        "name": "python",
        "version": 3
      },
      "file_extension": ".py",
      "mimetype": "text/x-python",
      "name": "python",
      "nbconvert_exporter": "python",
      "pygments_lexer": "ipython3",
      "version": "3.8"
    }
  },
  "nbformat_minor": 5,
  "nbformat": 4,
  "cells": [
    {
      "id": "fd9e7e1c-910f-49e7-be42-855ea09efdab",
      "cell_type": "code",
      "source": "import pandas as pd",
      "metadata": {
        "trusted": true
      },
      "outputs": [],
      "execution_count": 4
    },
    {
      "id": "9ff0e83b-6322-414c-b735-1e71ab3270c3",
      "cell_type": "code",
      "source": "df = pd.read_csv(\"industrial production.csv\")",
      "metadata": {
        "trusted": true
      },
      "outputs": [],
      "execution_count": 5
    },
    {
      "id": "fefab3e8-6dcb-4c8f-98d3-de2c7dfacf3e",
      "cell_type": "code",
      "source": "df.head()",
      "metadata": {
        "trusted": true
      },
      "outputs": [
        {
          "execution_count": 6,
          "output_type": "execute_result",
          "data": {
            "text/plain": "  observation_date  INDPRO\n0       1919-01-01  4.8654\n1       1919-02-01  4.6504\n2       1919-03-01  4.5160\n3       1919-04-01  4.5966\n4       1919-05-01  4.6235",
            "text/html": "<div>\n<style scoped>\n    .dataframe tbody tr th:only-of-type {\n        vertical-align: middle;\n    }\n\n    .dataframe tbody tr th {\n        vertical-align: top;\n    }\n\n    .dataframe thead th {\n        text-align: right;\n    }\n</style>\n<table border=\"1\" class=\"dataframe\">\n  <thead>\n    <tr style=\"text-align: right;\">\n      <th></th>\n      <th>observation_date</th>\n      <th>INDPRO</th>\n    </tr>\n  </thead>\n  <tbody>\n    <tr>\n      <th>0</th>\n      <td>1919-01-01</td>\n      <td>4.8654</td>\n    </tr>\n    <tr>\n      <th>1</th>\n      <td>1919-02-01</td>\n      <td>4.6504</td>\n    </tr>\n    <tr>\n      <th>2</th>\n      <td>1919-03-01</td>\n      <td>4.5160</td>\n    </tr>\n    <tr>\n      <th>3</th>\n      <td>1919-04-01</td>\n      <td>4.5966</td>\n    </tr>\n    <tr>\n      <th>4</th>\n      <td>1919-05-01</td>\n      <td>4.6235</td>\n    </tr>\n  </tbody>\n</table>\n</div>"
          },
          "metadata": {}
        }
      ],
      "execution_count": 6
    },
    {
      "id": "82a59756-e352-4546-a0c9-a5bd3c7fcf9e",
      "cell_type": "code",
      "source": "",
      "metadata": {
        "trusted": true
      },
      "outputs": [],
      "execution_count": null
    },
    {
      "id": "f8a3c08c-9334-4f9b-97e2-2076be7a31ac",
      "cell_type": "code",
      "source": "",
      "metadata": {
        "trusted": true
      },
      "outputs": [],
      "execution_count": null
    }
  ]
}