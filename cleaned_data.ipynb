{
 "cells": [
  {
   "cell_type": "code",
   "execution_count": 2,
   "id": "e8387dbb",
   "metadata": {},
   "outputs": [],
   "source": [
    "# Import statements\n",
    "import pandas as pd\n",
    "import numpy as np\n"
   ]
  },
  {
   "cell_type": "code",
   "execution_count": 30,
   "id": "a152f60e",
   "metadata": {},
   "outputs": [
    {
     "data": {
      "text/html": [
       "<div>\n",
       "<style scoped>\n",
       "    .dataframe tbody tr th:only-of-type {\n",
       "        vertical-align: middle;\n",
       "    }\n",
       "\n",
       "    .dataframe tbody tr th {\n",
       "        vertical-align: top;\n",
       "    }\n",
       "\n",
       "    .dataframe thead th {\n",
       "        text-align: right;\n",
       "    }\n",
       "</style>\n",
       "<table border=\"1\" class=\"dataframe\">\n",
       "  <thead>\n",
       "    <tr style=\"text-align: right;\">\n",
       "      <th></th>\n",
       "      <th>city</th>\n",
       "      <th>year</th>\n",
       "      <th>quarter</th>\n",
       "      <th>index_nsa</th>\n",
       "    </tr>\n",
       "  </thead>\n",
       "  <tbody>\n",
       "    <tr>\n",
       "      <th>16354</th>\n",
       "      <td>Chicago</td>\n",
       "      <td>1990</td>\n",
       "      <td>1</td>\n",
       "      <td>83.83</td>\n",
       "    </tr>\n",
       "    <tr>\n",
       "      <th>16355</th>\n",
       "      <td>Chicago</td>\n",
       "      <td>1990</td>\n",
       "      <td>2</td>\n",
       "      <td>84.81</td>\n",
       "    </tr>\n",
       "    <tr>\n",
       "      <th>16356</th>\n",
       "      <td>Chicago</td>\n",
       "      <td>1990</td>\n",
       "      <td>3</td>\n",
       "      <td>85.80</td>\n",
       "    </tr>\n",
       "    <tr>\n",
       "      <th>16357</th>\n",
       "      <td>Chicago</td>\n",
       "      <td>1990</td>\n",
       "      <td>4</td>\n",
       "      <td>85.87</td>\n",
       "    </tr>\n",
       "    <tr>\n",
       "      <th>16358</th>\n",
       "      <td>Chicago</td>\n",
       "      <td>1991</td>\n",
       "      <td>1</td>\n",
       "      <td>86.95</td>\n",
       "    </tr>\n",
       "  </tbody>\n",
       "</table>\n",
       "</div>"
      ],
      "text/plain": [
       "          city  year  quarter  index_nsa\n",
       "16354  Chicago  1990        1      83.83\n",
       "16355  Chicago  1990        2      84.81\n",
       "16356  Chicago  1990        3      85.80\n",
       "16357  Chicago  1990        4      85.87\n",
       "16358  Chicago  1991        1      86.95"
      ]
     },
     "execution_count": 30,
     "metadata": {},
     "output_type": "execute_result"
    }
   ],
   "source": [
    "# HPI Data\n",
    "df = pd.read_csv('datasets/hpi_master.csv')\n",
    "cities = [\"Houston\", \"Phoenix\", \"Los Angeles\", \"Chicago\", \"New York\"]\n",
    "pattern = \"|\".join(cities)\n",
    "filtered_df = df[df['place_name'].str.contains(pattern, case=False, na=False)]\n",
    "filtered_df = filtered_df.drop(columns=['hpi_type', 'hpi_flavor', 'frequency', 'level', 'place_id', 'index_sa'])\n",
    "def extract_city(name):\n",
    "    for city in cities:\n",
    "        if city.lower() in name.lower():\n",
    "            return city\n",
    "    return name\n",
    "\n",
    "filtered_df['place_name'] = filtered_df['place_name'].apply(extract_city)\n",
    "filtered_df = filtered_df[filtered_df['yr'] >= 1990]\n",
    "filtered_df = filtered_df.rename(columns={'yr': 'year', 'place_name': 'city', 'period': 'quarter'})\n",
    "hpi = filtered_df\n",
    "hpi.head()"
   ]
  },
  {
   "cell_type": "code",
   "execution_count": 9,
   "id": "60465044",
   "metadata": {},
   "outputs": [],
   "source": [
    "# Demographic Data"
   ]
  },
  {
   "cell_type": "code",
   "execution_count": 10,
   "id": "97c5cbc6",
   "metadata": {},
   "outputs": [],
   "source": [
    "# GDP Data"
   ]
  },
  {
   "cell_type": "code",
   "execution_count": 11,
   "id": "7adedfe3",
   "metadata": {},
   "outputs": [],
   "source": [
    "# Unemployment data"
   ]
  },
  {
   "cell_type": "code",
   "execution_count": 12,
   "id": "00dd8484",
   "metadata": {},
   "outputs": [],
   "source": [
    "# Industrial production"
   ]
  },
  {
   "cell_type": "code",
   "execution_count": 6,
   "id": "be8160b6",
   "metadata": {},
   "outputs": [
    {
     "data": {
      "text/html": [
       "<div>\n",
       "<style scoped>\n",
       "    .dataframe tbody tr th:only-of-type {\n",
       "        vertical-align: middle;\n",
       "    }\n",
       "\n",
       "    .dataframe tbody tr th {\n",
       "        vertical-align: top;\n",
       "    }\n",
       "\n",
       "    .dataframe thead th {\n",
       "        text-align: right;\n",
       "    }\n",
       "</style>\n",
       "<table border=\"1\" class=\"dataframe\">\n",
       "  <thead>\n",
       "    <tr style=\"text-align: right;\">\n",
       "      <th></th>\n",
       "      <th>city</th>\n",
       "      <th>year</th>\n",
       "      <th>quarter</th>\n",
       "      <th>VIXCLS</th>\n",
       "    </tr>\n",
       "  </thead>\n",
       "  <tbody>\n",
       "    <tr>\n",
       "      <th>0</th>\n",
       "      <td>Houston</td>\n",
       "      <td>1990</td>\n",
       "      <td>1</td>\n",
       "      <td>22.168437</td>\n",
       "    </tr>\n",
       "    <tr>\n",
       "      <th>1</th>\n",
       "      <td>Houston</td>\n",
       "      <td>1990</td>\n",
       "      <td>2</td>\n",
       "      <td>18.735385</td>\n",
       "    </tr>\n",
       "    <tr>\n",
       "      <th>2</th>\n",
       "      <td>Houston</td>\n",
       "      <td>1990</td>\n",
       "      <td>3</td>\n",
       "      <td>25.134462</td>\n",
       "    </tr>\n",
       "    <tr>\n",
       "      <th>3</th>\n",
       "      <td>Houston</td>\n",
       "      <td>1990</td>\n",
       "      <td>4</td>\n",
       "      <td>26.005909</td>\n",
       "    </tr>\n",
       "    <tr>\n",
       "      <th>4</th>\n",
       "      <td>Houston</td>\n",
       "      <td>1991</td>\n",
       "      <td>1</td>\n",
       "      <td>22.427344</td>\n",
       "    </tr>\n",
       "  </tbody>\n",
       "</table>\n",
       "</div>"
      ],
      "text/plain": [
       "      city  year  quarter     VIXCLS\n",
       "0  Houston  1990        1  22.168437\n",
       "1  Houston  1990        2  18.735385\n",
       "2  Houston  1990        3  25.134462\n",
       "3  Houston  1990        4  26.005909\n",
       "4  Houston  1991        1  22.427344"
      ]
     },
     "execution_count": 6,
     "metadata": {},
     "output_type": "execute_result"
    }
   ],
   "source": [
    "# Volatility Data\n",
    "df = pd.read_csv('datasets/VIXCLS.csv')\n",
    "df['observation_date'] = pd.to_datetime(df['observation_date'])\n",
    "\n",
    "df['VIXCLS'] = df['VIXCLS'].interpolate(method='linear')\n",
    "\n",
    "df['year'] = df['observation_date'].dt.year\n",
    "df['quarter'] = df['observation_date'].dt.quarter\n",
    "\n",
    "quarterly_df = df.groupby(['year', 'quarter'], as_index=False)['VIXCLS'].mean()\n",
    "\n",
    "cities = [\"Houston\", \"Phoenix\", \"Los Angeles\", \"Chicago\", \"New York\"]\n",
    "vix = pd.DataFrame()\n",
    "\n",
    "for city in cities:\n",
    "    temp = quarterly_df.copy()\n",
    "    temp['city'] = city\n",
    "    vix = pd.concat([vix, temp], ignore_index=True)\n",
    "\n",
    "vix = vix[['city', 'year', 'quarter', 'VIXCLS']]\n",
    "\n",
    "vix.head()"
   ]
  },
  {
   "cell_type": "code",
   "execution_count": 14,
   "id": "a48e94c8",
   "metadata": {},
   "outputs": [],
   "source": [
    "# Inflation Data"
   ]
  }
 ],
 "metadata": {
  "kernelspec": {
   "display_name": "Python 3",
   "language": "python",
   "name": "python3"
  },
  "language_info": {
   "codemirror_mode": {
    "name": "ipython",
    "version": 3
   },
   "file_extension": ".py",
   "mimetype": "text/x-python",
   "name": "python",
   "nbconvert_exporter": "python",
   "pygments_lexer": "ipython3",
   "version": "3.13.7"
  }
 },
 "nbformat": 4,
 "nbformat_minor": 5
}
