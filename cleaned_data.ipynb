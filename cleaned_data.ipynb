{
 "cells": [
  {
   "cell_type": "code",
   "execution_count": 7,
   "id": "e8387dbb",
   "metadata": {},
   "outputs": [],
   "source": [
    "# Import statements\n",
    "import pandas as pd"
   ]
  },
  {
   "cell_type": "code",
   "execution_count": 2,
   "id": "a152f60e",
   "metadata": {},
   "outputs": [],
   "source": [
    "# HPI Data"
   ]
  },
  {
   "cell_type": "code",
   "execution_count": 9,
   "id": "60465044",
   "metadata": {},
   "outputs": [],
   "source": [
    "# Demographic Data"
   ]
  },
  {
   "cell_type": "code",
   "execution_count": 10,
   "id": "97c5cbc6",
   "metadata": {},
   "outputs": [],
   "source": [
    "# GDP Data"
   ]
  },
  {
   "cell_type": "code",
   "execution_count": 11,
   "id": "7adedfe3",
   "metadata": {},
   "outputs": [],
   "source": [
    "# Unemployment data"
   ]
  },
  {
   "cell_type": "code",
   "execution_count": 12,
   "id": "00dd8484",
   "metadata": {},
   "outputs": [],
   "source": [
    "# Industrial production"
   ]
  },
  {
   "cell_type": "code",
   "execution_count": 13,
   "id": "be8160b6",
   "metadata": {},
   "outputs": [],
   "source": [
    "# Volatility Data"
   ]
  },
  {
   "cell_type": "code",
   "execution_count": 14,
   "id": "a48e94c8",
   "metadata": {},
   "outputs": [],
   "source": [
    "# Inflation Data"
   ]
  }
 ],
 "metadata": {
  "kernelspec": {
   "display_name": "Python 3",
   "language": "python",
   "name": "python3"
  },
  "language_info": {
   "codemirror_mode": {
    "name": "ipython",
    "version": 3
   },
   "file_extension": ".py",
   "mimetype": "text/x-python",
   "name": "python",
   "nbconvert_exporter": "python",
   "pygments_lexer": "ipython3",
   "version": "3.11.0"
  }
 },
 "nbformat": 4,
 "nbformat_minor": 5
}
